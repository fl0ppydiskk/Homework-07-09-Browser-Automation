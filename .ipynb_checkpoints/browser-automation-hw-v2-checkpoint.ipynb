{
 "cells": [
  {
   "cell_type": "markdown",
   "id": "408d180b-e773-40b0-b987-0783ffce9a33",
   "metadata": {},
   "source": [
    "# Browser Automation Homework ROUND 2\n",
    "Due 7-16<br>\n",
    "Completed by: **Florine Schönmann** (I didn't manage to finish it, does this have to do with my Playwright version? TAs couldn't help me.)\n",
    "\n",
    "We're going to the United States trademark data base and going to collect all of Nike (or any company's) active trademarks.\n",
    "\n",
    "We only want the live trademarks, and we want the `serial` number and the link to an image of each trademark. Feel free to collect the `wordmark` if you like.\n",
    "\n",
    "\n",
    "Note: if you get asked if you're a bot, just complete the challenges manually."
   ]
  },
  {
   "cell_type": "code",
   "execution_count": 1,
   "id": "a500edfa-8cc0-46ac-b0ac-fa2aab1d5409",
   "metadata": {},
   "outputs": [],
   "source": [
    "import os\n",
    "import random\n",
    "import time\n",
    "\n",
    "from playwright.async_api import async_playwright, expect, Keyboard"
   ]
  },
  {
   "cell_type": "code",
   "execution_count": 2,
   "id": "a2bd602a-ce71-40eb-8cb6-b2fc6822bb39",
   "metadata": {
    "editable": true,
    "slideshow": {
     "slide_type": ""
    },
    "tags": []
   },
   "outputs": [],
   "source": [
    "os.makedirs('data/', exist_ok=True)"
   ]
  },
  {
   "cell_type": "code",
   "execution_count": 3,
   "id": "d760ea0c-f3f4-44c8-9173-69406ae4443d",
   "metadata": {},
   "outputs": [],
   "source": [
    "user_agent = 'Mozilla/5.0 (Macintosh; Intel Mac OS X 10_15_7) AppleWebKit/537.36 (KHTML, like Gecko) Chrome/138.0.0.0 Safari/537.36'"
   ]
  },
  {
   "cell_type": "code",
   "execution_count": 5,
   "id": "bc65c8ba-2e6a-4e86-b324-53199ffb0612",
   "metadata": {},
   "outputs": [],
   "source": [
    "async def open_browser(headless=False, user_agent=user_agent):\n",
    "    \"\"\"\n",
    "    Starts the automated browser and opens a new window\n",
    "    \"\"\"\n",
    "    # Start playwright\n",
    "    playwright = await async_playwright().start()\n",
    "\n",
    "    # Open firefox browser, can use chromium (chrome) or others\n",
    "    browser = await playwright.chromium.launch(headless=headless)\n",
    "\n",
    "    # set a user agent\n",
    "    context = await browser.new_context(user_agent=user_agent)\n",
    "  \n",
    "    # Create a new browser window\n",
    "    page = await browser.new_page()\n",
    "\n",
    "    return browser, page"
   ]
  },
  {
   "cell_type": "code",
   "execution_count": 6,
   "id": "e47730b2-6160-467b-a9fa-bdef095b4dda",
   "metadata": {
    "editable": true,
    "slideshow": {
     "slide_type": ""
    },
    "tags": []
   },
   "outputs": [],
   "source": [
    "driver, page = await open_browser()"
   ]
  },
  {
   "cell_type": "code",
   "execution_count": 7,
   "id": "625bed66-0148-4d9c-9341-8624abd3189d",
   "metadata": {},
   "outputs": [
    {
     "data": {
      "text/plain": [
       "<Response url='https://tmsearch.uspto.gov/search/' request=<Request url='https://tmsearch.uspto.gov/search/' method='GET'>>"
      ]
     },
     "execution_count": 7,
     "metadata": {},
     "output_type": "execute_result"
    }
   ],
   "source": [
    "url = 'https://tmsearch.uspto.gov/search/'\n",
    "await page.goto(url)"
   ]
  },
  {
   "cell_type": "markdown",
   "id": "6f3e2561-4381-4c7a-9eb5-da583ae0bb43",
   "metadata": {
    "editable": true,
    "slideshow": {
     "slide_type": ""
    },
    "tags": []
   },
   "source": [
    "Only search by the \"Owner\" of each trademark"
   ]
  },
  {
   "cell_type": "code",
   "execution_count": 16,
   "id": "75937cc6-2e24-4a63-9f7b-56ead009a18c",
   "metadata": {},
   "outputs": [],
   "source": [
    "xpath_search_options = '//mat-form-field'\n",
    "filter = page.locator(xpath_search_options)"
   ]
  },
  {
   "cell_type": "code",
   "execution_count": 17,
   "id": "8f371297-6b2d-40e4-98c7-a35ded350728",
   "metadata": {},
   "outputs": [],
   "source": [
    "await filter.click()"
   ]
  },
  {
   "cell_type": "code",
   "execution_count": 20,
   "id": "caa724d9-67e7-427f-bf80-4ae504ee1371",
   "metadata": {},
   "outputs": [],
   "source": [
    "xpath_option = '//span[contains(@class, \"mdc-list-item__primary-text\") and contains(text(), \"Owner\")]'"
   ]
  },
  {
   "cell_type": "code",
   "execution_count": 21,
   "id": "03eca43a-a6f7-4888-adce-39b6cec1a314",
   "metadata": {},
   "outputs": [],
   "source": [
    "await page.locator(xpath_option).click()"
   ]
  },
  {
   "cell_type": "markdown",
   "id": "a507763e-ee46-49ac-abce-ca4dca7779b7",
   "metadata": {
    "editable": true,
    "slideshow": {
     "slide_type": ""
    },
    "tags": []
   },
   "source": [
    "Find the search bar and input the search"
   ]
  },
  {
   "cell_type": "code",
   "execution_count": 54,
   "id": "73b9568c-a23b-4f05-b6ae-67423e1fb56f",
   "metadata": {
    "editable": true,
    "slideshow": {
     "slide_type": ""
    },
    "tags": []
   },
   "outputs": [],
   "source": [
    "xpath_searchbar = '//input[@aria-label=\"Search trademarks\"]'"
   ]
  },
  {
   "cell_type": "code",
   "execution_count": 55,
   "id": "c7d67209-4716-44dc-87b4-ac15a64a49ce",
   "metadata": {},
   "outputs": [],
   "source": [
    "search = page.locator(xpath_searchbar)"
   ]
  },
  {
   "cell_type": "code",
   "execution_count": 58,
   "id": "a8944f50-cc83-466f-8fa0-033f1d9c5053",
   "metadata": {},
   "outputs": [],
   "source": [
    "# Change this if you like\n",
    "company = 'Nike'"
   ]
  },
  {
   "cell_type": "code",
   "execution_count": 59,
   "id": "9179b5b6-b781-4da4-aaf7-23a4dfe14048",
   "metadata": {
    "editable": true,
    "slideshow": {
     "slide_type": ""
    },
    "tags": []
   },
   "outputs": [],
   "source": [
    "await search.fill(company)"
   ]
  },
  {
   "cell_type": "markdown",
   "id": "a0f87185-f162-48e8-a887-b9c11dbc0632",
   "metadata": {},
   "source": [
    "Make the search"
   ]
  },
  {
   "cell_type": "code",
   "execution_count": 60,
   "id": "75c28d19-0b4f-45a9-8291-39208f7635f2",
   "metadata": {
    "editable": true,
    "slideshow": {
     "slide_type": ""
    },
    "tags": []
   },
   "outputs": [],
   "source": [
    "await page.keyboard.press(\"Enter\")"
   ]
  },
  {
   "cell_type": "markdown",
   "id": "14f17d35-1ad8-4931-aac7-6890ad946ea8",
   "metadata": {
    "editable": true,
    "slideshow": {
     "slide_type": ""
    },
    "tags": []
   },
   "source": [
    "Filter to only live contracts\n",
    "<br>In other words, filter out the dead ones."
   ]
  },
  {
   "cell_type": "code",
   "execution_count": 61,
   "id": "aa17d391-38fb-4f87-8ebd-b02a0ebef8e2",
   "metadata": {},
   "outputs": [],
   "source": [
    "xpath_filter = '//input[@id=\"statusDead\"]'"
   ]
  },
  {
   "cell_type": "code",
   "execution_count": 62,
   "id": "f3fa240e-c7a0-49bd-8dd9-220fdcc77668",
   "metadata": {},
   "outputs": [],
   "source": [
    "dead_button = page.locator(xpath_filter)"
   ]
  },
  {
   "cell_type": "code",
   "execution_count": 64,
   "id": "2f86a4b8-be81-41c4-bff9-1457b5469f71",
   "metadata": {},
   "outputs": [],
   "source": [
    "# click it\n",
    "await dead_button.click()"
   ]
  },
  {
   "cell_type": "markdown",
   "id": "cedb800a-649a-4594-91e4-0b3b549673d8",
   "metadata": {},
   "source": [
    "# Save results"
   ]
  },
  {
   "cell_type": "code",
   "execution_count": 66,
   "id": "01051c73-9f54-4f7f-87be-581d6d019cc2",
   "metadata": {},
   "outputs": [],
   "source": [
    "# how to save what the emulator sees\n",
    "source = await page.content()\n",
    "with open(f'data/trademarks_{company}.html', 'w', encoding='utf-8') as f:\n",
    "    f.write(source)"
   ]
  },
  {
   "cell_type": "markdown",
   "id": "546f4887-ac1a-4cc8-ba38-c15c66383ebd",
   "metadata": {},
   "source": [
    "GO TO THE NEXT PAGE AND REPEAT"
   ]
  },
  {
   "cell_type": "code",
   "execution_count": 72,
   "id": "608d6493-8b8e-4123-8e14-696510eb5e78",
   "metadata": {},
   "outputs": [],
   "source": [
    "# this is the next page button\n",
    "xpath_next = \"//i[text()='navigate_next']\""
   ]
  },
  {
   "cell_type": "code",
   "execution_count": 78,
   "id": "69d0c218-67bf-4395-9a1d-90efa87457fc",
   "metadata": {},
   "outputs": [],
   "source": [
    "# What is the xpath for a result, make sure this is visible before going to next page.\n",
    "xpath_result = '//*[@id=\"resultsRow\"]'"
   ]
  },
  {
   "cell_type": "code",
   "execution_count": 75,
   "id": "a0a13a6e-4a5b-4a0c-9412-912eede74fcf",
   "metadata": {},
   "outputs": [],
   "source": [
    "next_button = page.locator(xpath_next)"
   ]
  },
  {
   "cell_type": "code",
   "execution_count": 76,
   "id": "006acae7-bd8e-467d-9fae-8e0ef4a18db0",
   "metadata": {},
   "outputs": [],
   "source": [
    "await expect(next_button).to_be_visible()"
   ]
  },
  {
   "cell_type": "code",
   "execution_count": 77,
   "id": "d096426e-8e34-4d7b-9391-dd57240e7bbf",
   "metadata": {},
   "outputs": [],
   "source": [
    "await next_button.click()"
   ]
  },
  {
   "cell_type": "code",
   "execution_count": 134,
   "id": "4ccc567e-ef01-419f-a3a5-b6e1b8c5a7f5",
   "metadata": {},
   "outputs": [
    {
     "ename": "TypeError",
     "evalue": "Frame.is_visible() got an unexpected keyword argument 'timeout'",
     "output_type": "error",
     "traceback": [
      "\u001b[31m---------------------------------------------------------------------------\u001b[39m",
      "\u001b[31mTypeError\u001b[39m                                 Traceback (most recent call last)",
      "\u001b[36mCell\u001b[39m\u001b[36m \u001b[39m\u001b[32mIn[134]\u001b[39m\u001b[32m, line 7\u001b[39m\n\u001b[32m      4\u001b[39m collect = \u001b[38;5;28;01mTrue\u001b[39;00m\n\u001b[32m      5\u001b[39m \u001b[38;5;28;01mwhile\u001b[39;00m collect:\n\u001b[32m      6\u001b[39m     \u001b[38;5;66;03m# check the next button is visible\u001b[39;00m\n\u001b[32m----> \u001b[39m\u001b[32m7\u001b[39m     \u001b[38;5;28;01mif\u001b[39;00m \u001b[38;5;28;01mawait\u001b[39;00m page.is_visible(xpath_next, timeout=\u001b[32m100\u001b[39m):\n\u001b[32m      8\u001b[39m         \u001b[38;5;66;03m# click the next button\u001b[39;00m\n\u001b[32m      9\u001b[39m         next_button = page.locator(xpath_next)\n\u001b[32m     10\u001b[39m         \u001b[38;5;28;01mawait\u001b[39;00m next_button.click()\n",
      "\u001b[36mFile \u001b[39m\u001b[32m~\\AppData\\Local\\Programs\\Python\\Python312\\Lib\\site-packages\\playwright\\async_api\\_generated.py:8368\u001b[39m, in \u001b[36mPage.is_visible\u001b[39m\u001b[34m(self, selector, strict, timeout)\u001b[39m\n\u001b[32m   8339\u001b[39m \u001b[38;5;28;01masync\u001b[39;00m \u001b[38;5;28;01mdef\u001b[39;00m\u001b[38;5;250m \u001b[39m\u001b[34mis_visible\u001b[39m(\n\u001b[32m   8340\u001b[39m     \u001b[38;5;28mself\u001b[39m,\n\u001b[32m   8341\u001b[39m     selector: \u001b[38;5;28mstr\u001b[39m,\n\u001b[32m   (...)\u001b[39m\u001b[32m   8344\u001b[39m     timeout: typing.Optional[\u001b[38;5;28mfloat\u001b[39m] = \u001b[38;5;28;01mNone\u001b[39;00m,\n\u001b[32m   8345\u001b[39m ) -> \u001b[38;5;28mbool\u001b[39m:\n\u001b[32m   8346\u001b[39m \u001b[38;5;250m    \u001b[39m\u001b[33;03m\"\"\"Page.is_visible\u001b[39;00m\n\u001b[32m   8347\u001b[39m \n\u001b[32m   8348\u001b[39m \u001b[33;03m    Returns whether the element is [visible](https://playwright.dev/python/docs/actionability#visible). `selector` that does not match any elements\u001b[39;00m\n\u001b[32m   (...)\u001b[39m\u001b[32m   8364\u001b[39m \u001b[33;03m    bool\u001b[39;00m\n\u001b[32m   8365\u001b[39m \u001b[33;03m    \"\"\"\u001b[39;00m\n\u001b[32m   8367\u001b[39m     \u001b[38;5;28;01mreturn\u001b[39;00m mapping.from_maybe_impl(\n\u001b[32m-> \u001b[39m\u001b[32m8368\u001b[39m         \u001b[38;5;28;01mawait\u001b[39;00m \u001b[38;5;28mself\u001b[39m._impl_obj.is_visible(\n\u001b[32m   8369\u001b[39m             selector=selector, strict=strict, timeout=timeout\n\u001b[32m   8370\u001b[39m         )\n\u001b[32m   8371\u001b[39m     )\n",
      "\u001b[36mFile \u001b[39m\u001b[32m~\\AppData\\Local\\Programs\\Python\\Python312\\Lib\\site-packages\\playwright\\_impl\\_page.py:455\u001b[39m, in \u001b[36mPage.is_visible\u001b[39m\u001b[34m(self, selector, strict, timeout)\u001b[39m\n\u001b[32m    452\u001b[39m \u001b[38;5;28;01masync\u001b[39;00m \u001b[38;5;28;01mdef\u001b[39;00m\u001b[38;5;250m \u001b[39m\u001b[34mis_visible\u001b[39m(\n\u001b[32m    453\u001b[39m     \u001b[38;5;28mself\u001b[39m, selector: \u001b[38;5;28mstr\u001b[39m, strict: \u001b[38;5;28mbool\u001b[39m = \u001b[38;5;28;01mNone\u001b[39;00m, timeout: \u001b[38;5;28mfloat\u001b[39m = \u001b[38;5;28;01mNone\u001b[39;00m\n\u001b[32m    454\u001b[39m ) -> \u001b[38;5;28mbool\u001b[39m:\n\u001b[32m--> \u001b[39m\u001b[32m455\u001b[39m     \u001b[38;5;28;01mreturn\u001b[39;00m \u001b[38;5;28;01mawait\u001b[39;00m \u001b[38;5;28;43mself\u001b[39;49m\u001b[43m.\u001b[49m\u001b[43m_main_frame\u001b[49m\u001b[43m.\u001b[49m\u001b[43mis_visible\u001b[49m\u001b[43m(\u001b[49m\u001b[43m*\u001b[49m\u001b[43m*\u001b[49m\u001b[43mlocals_to_params\u001b[49m\u001b[43m(\u001b[49m\u001b[38;5;28;43mlocals\u001b[39;49m\u001b[43m(\u001b[49m\u001b[43m)\u001b[49m\u001b[43m)\u001b[49m\u001b[43m)\u001b[49m\n",
      "\u001b[31mTypeError\u001b[39m: Frame.is_visible() got an unexpected keyword argument 'timeout'"
     ]
    }
   ],
   "source": [
    "# Here we'll put it all together and iterate through.\n",
    "# There are many ways to do this\n",
    "i = 1\n",
    "collect = True\n",
    "while collect:\n",
    "    # check the next button is visible\n",
    "    if await page.is_visible(xpath_next, timeout=100):\n",
    "        # click the next button\n",
    "        next_button = page.locator(xpath_next)\n",
    "        await next_button.click()\n",
    "\n",
    "        # make sure the search result is visible\n",
    "        await page.locator(xpath_result).is_visible()\n",
    "\n",
    "        # save the contents\n",
    "        source = await page.content()\n",
    "        with open(f'data/trademarks_{company}_{i}.html', 'w', encoding='utf-8') as f:\n",
    "            f.write(source)\n",
    "        i += 1\n",
    "    else:\n",
    "        collect = False\n",
    "        break"
   ]
  },
  {
   "cell_type": "markdown",
   "id": "a673d75c-2f79-43a7-93d9-1cca1afeae6b",
   "metadata": {},
   "source": [
    "## Parse the contents"
   ]
  },
  {
   "cell_type": "code",
   "execution_count": 92,
   "id": "f2249a32-1eaa-4adb-afb8-6261b7106607",
   "metadata": {},
   "outputs": [],
   "source": [
    "import glob\n",
    "import pandas as pd\n",
    "from lxml import etree, html"
   ]
  },
  {
   "cell_type": "code",
   "execution_count": 93,
   "id": "077d7d6a-83cc-4a6e-aa95-1d526e69e2d0",
   "metadata": {},
   "outputs": [],
   "source": [
    "# list the scraped pages to pars them\n",
    "files = glob.glob('data/trademarks*.html')"
   ]
  },
  {
   "cell_type": "code",
   "execution_count": 120,
   "id": "bc6f52ee-dd17-4375-b19e-9794f9b80730",
   "metadata": {
    "editable": true,
    "slideshow": {
     "slide_type": ""
    },
    "tags": []
   },
   "outputs": [],
   "source": [
    "# A trademark entry\n",
    "xpath_trademark_cards = './/div[@class=\"card m-2 result-card ng-star-inserted\"]'\n",
    "\n",
    "# the serial number\n",
    "xpath_serial = './/div[@class=\"row mb-2 ng-star-inserted\"]//span'"
   ]
  },
  {
   "cell_type": "code",
   "execution_count": 128,
   "id": "12fe6f16-7423-4f7e-b004-09f2036bf44f",
   "metadata": {
    "scrolled": true
   },
   "outputs": [
    {
     "name": "stderr",
     "output_type": "stream",
     "text": [
      "C:\\Users\\amdw\\AppData\\Local\\Temp\\ipykernel_16592\\596279593.py:10: FutureWarning: Truth-testing of elements was a source of confusion and will always return True in future versions. Use specific 'len(elem)' or 'elem is not None' test instead.\n",
      "  if img:\n"
     ]
    },
    {
     "name": "stdout",
     "output_type": "stream",
     "text": [
      "no image\n",
      "no image\n",
      "no image\n",
      "no image\n",
      "no image\n",
      "no image\n",
      "no image\n",
      "no image\n",
      "no image\n",
      "no image\n",
      "no image\n",
      "no image\n",
      "no image\n",
      "no image\n",
      "no image\n",
      "no image\n",
      "no image\n",
      "no image\n",
      "no image\n",
      "no image\n",
      "no image\n",
      "no image\n",
      "no image\n",
      "no image\n",
      "no image\n",
      "no image\n",
      "no image\n",
      "no image\n",
      "no image\n",
      "no image\n",
      "no image\n",
      "no image\n",
      "no image\n",
      "no image\n",
      "no image\n",
      "no image\n",
      "no image\n",
      "no image\n",
      "no image\n",
      "no image\n",
      "no image\n",
      "no image\n",
      "no image\n",
      "no image\n",
      "no image\n",
      "no image\n",
      "no image\n",
      "no image\n",
      "no image\n",
      "no image\n",
      "no image\n",
      "no image\n",
      "no image\n",
      "no image\n",
      "no image\n",
      "no image\n",
      "no image\n",
      "no image\n",
      "no image\n",
      "no image\n",
      "no image\n",
      "no image\n",
      "no image\n",
      "no image\n",
      "no image\n",
      "no image\n",
      "no image\n",
      "no image\n",
      "no image\n",
      "no image\n",
      "no image\n",
      "no image\n",
      "no image\n",
      "no image\n",
      "no image\n",
      "no image\n",
      "no image\n",
      "no image\n",
      "no image\n",
      "no image\n",
      "no image\n",
      "no image\n",
      "no image\n",
      "no image\n",
      "no image\n",
      "no image\n",
      "no image\n",
      "no image\n",
      "no image\n",
      "no image\n",
      "no image\n",
      "no image\n",
      "no image\n",
      "no image\n",
      "no image\n",
      "no image\n",
      "no image\n",
      "no image\n",
      "no image\n",
      "no image\n",
      "no image\n",
      "no image\n",
      "no image\n",
      "no image\n",
      "no image\n",
      "no image\n",
      "no image\n",
      "no image\n",
      "no image\n",
      "no image\n",
      "no image\n",
      "no image\n",
      "no image\n",
      "no image\n",
      "no image\n",
      "no image\n",
      "no image\n",
      "no image\n",
      "no image\n",
      "no image\n",
      "no image\n",
      "no image\n",
      "no image\n",
      "no image\n",
      "no image\n",
      "no image\n",
      "no image\n",
      "no image\n",
      "no image\n",
      "no image\n",
      "no image\n",
      "no image\n",
      "no image\n",
      "no image\n",
      "no image\n",
      "no image\n",
      "no image\n",
      "no image\n",
      "no image\n",
      "no image\n",
      "no image\n",
      "no image\n",
      "no image\n",
      "no image\n",
      "no image\n",
      "no image\n",
      "no image\n",
      "no image\n",
      "no image\n",
      "no image\n",
      "no image\n",
      "no image\n",
      "no image\n",
      "no image\n",
      "no image\n",
      "no image\n",
      "no image\n",
      "no image\n",
      "no image\n",
      "no image\n",
      "no image\n",
      "no image\n",
      "no image\n",
      "no image\n",
      "no image\n",
      "no image\n",
      "no image\n",
      "no image\n",
      "no image\n",
      "no image\n",
      "no image\n",
      "no image\n",
      "no image\n",
      "no image\n",
      "no image\n",
      "no image\n",
      "no image\n",
      "no image\n",
      "no image\n",
      "no image\n",
      "no image\n",
      "no image\n",
      "no image\n",
      "no image\n",
      "no image\n",
      "no image\n",
      "no image\n",
      "no image\n",
      "no image\n",
      "no image\n",
      "no image\n",
      "no image\n",
      "no image\n",
      "no image\n",
      "no image\n",
      "no image\n",
      "no image\n",
      "no image\n",
      "no image\n",
      "no image\n"
     ]
    }
   ],
   "source": [
    "data = []\n",
    "for fn in files:\n",
    "    # read into a XML tree from a string\n",
    "    tree = html.fromstring(open(fn).read())\n",
    "    trademarks = tree.findall(xpath_trademark_cards)\n",
    "    for trademark in trademarks:\n",
    "        serial = trademark.find(xpath_serial)\n",
    "        # get the images also\n",
    "        img = trademark.find('.//img')\n",
    "        if img:\n",
    "            print(\"there is an image\")\n",
    "            img_url = img.get('src')\n",
    "        else:\n",
    "            print(\"no image\")\n",
    "        #row = {'serial' : serial.text, 'img_url': img_url}\n",
    "        #data.append(row)"
   ]
  },
  {
   "cell_type": "code",
   "execution_count": 108,
   "id": "2859a89f-7aab-4992-b70c-d7c53b259311",
   "metadata": {},
   "outputs": [
    {
     "data": {
      "text/html": [
       "<div>\n",
       "<style scoped>\n",
       "    .dataframe tbody tr th:only-of-type {\n",
       "        vertical-align: middle;\n",
       "    }\n",
       "\n",
       "    .dataframe tbody tr th {\n",
       "        vertical-align: top;\n",
       "    }\n",
       "\n",
       "    .dataframe thead th {\n",
       "        text-align: right;\n",
       "    }\n",
       "</style>\n",
       "<table border=\"1\" class=\"dataframe\">\n",
       "  <thead>\n",
       "    <tr style=\"text-align: right;\">\n",
       "      <th></th>\n",
       "    </tr>\n",
       "  </thead>\n",
       "  <tbody>\n",
       "  </tbody>\n",
       "</table>\n",
       "</div>"
      ],
      "text/plain": [
       "Empty DataFrame\n",
       "Columns: []\n",
       "Index: []"
      ]
     },
     "execution_count": 108,
     "metadata": {},
     "output_type": "execute_result"
    }
   ],
   "source": [
    "df = pd.DataFrame(data)\n",
    "df.head(5)"
   ]
  },
  {
   "cell_type": "code",
   "execution_count": 176,
   "id": "7bb9349c-d63a-4464-9694-bf25acd3cb4f",
   "metadata": {},
   "outputs": [],
   "source": [
    "df.to_csv('data/trademarks.csv', index=False)"
   ]
  },
  {
   "cell_type": "code",
   "execution_count": 1,
   "id": "c3b069de-77d5-40bc-b269-9e9aac814462",
   "metadata": {},
   "outputs": [
    {
     "name": "stdout",
     "output_type": "stream",
     "text": [
      "Version 1.53.0\n"
     ]
    }
   ],
   "source": [
    "! playwright --version"
   ]
  },
  {
   "cell_type": "code",
   "execution_count": null,
   "id": "3e9f7329-1a9a-4c50-ad2b-a4d50893de87",
   "metadata": {},
   "outputs": [],
   "source": []
  }
 ],
 "metadata": {
  "kernelspec": {
   "display_name": "Python 3 (ipykernel)",
   "language": "python",
   "name": "python3"
  },
  "language_info": {
   "codemirror_mode": {
    "name": "ipython",
    "version": 3
   },
   "file_extension": ".py",
   "mimetype": "text/x-python",
   "name": "python",
   "nbconvert_exporter": "python",
   "pygments_lexer": "ipython3",
   "version": "3.12.10"
  }
 },
 "nbformat": 4,
 "nbformat_minor": 5
}
